{
 "cells": [
  {
   "cell_type": "markdown",
   "source": [
    "# Read an impulse response (IR) and plot it\n",
    "\n",
    "Read an IR either from a .txt file as produced by the utilities in this project (`transform_all_pir_to_txt` script) or from an ARTA PIR file.\n",
    "\n",
    "1. Import the following libraries\n",
    "2. Read the IR from either a txt or a pir\n",
    "3. See it!"
   ],
   "metadata": {
    "collapsed": false,
    "pycharm": {
     "name": "#%% md\n"
    }
   }
  },
  {
   "cell_type": "markdown",
   "source": [
    "## Importing the libraries"
   ],
   "metadata": {
    "collapsed": false,
    "pycharm": {
     "name": "#%% md\n"
    }
   }
  },
  {
   "cell_type": "code",
   "execution_count": 1,
   "outputs": [],
   "source": [
    "import matplotlib.pyplot as plt\n",
    "import numpy as np\n",
    "from pir import PirFile\n",
    "from utils import expand_absolute_path"
   ],
   "metadata": {
    "collapsed": false,
    "pycharm": {
     "name": "#%%\n"
    }
   }
  },
  {
   "cell_type": "markdown",
   "source": [
    "## Reading the IR from a .txt\n",
    "\n",
    "Read the impulse response from a .txt as exported by the Python script `transform_all_pir_to_txt`. Set the path to the txt file in the empty string in the first line of the following cell, and the sample rate in the next line."
   ],
   "metadata": {
    "collapsed": false,
    "pycharm": {
     "name": "#%% md\n"
    }
   }
  },
  {
   "cell_type": "code",
   "execution_count": 2,
   "outputs": [],
   "source": [
    "file_path = expand_absolute_path(\"\")  # Set the empty string to the ABSOLUTE path to the .txt file.\n",
    "sample_rate = 48000\n",
    "with open(file_path, 'r') as file:\n",
    "    ir = []\n",
    "    while value := file.readline():\n",
    "        ir.append(float(value.strip('\\n')))\n",
    "\n",
    "ir = np.array(ir)\n",
    "time_vector = np.linspace(0, ir.shape[0] / sample_rate, ir.shape[0])\n",
    "ir_matrix = np.array([time_vector, ir]).T"
   ],
   "metadata": {
    "collapsed": false,
    "pycharm": {
     "name": "#%%\n"
    }
   }
  },
  {
   "cell_type": "markdown",
   "source": [
    "## Reading the IR from a .pir file\n",
    "\n",
    "Use the utilities in this project to read an impulse response from a .pir file. Set the path to the pir file in the empty string in the first line of the following cell."
   ],
   "metadata": {
    "collapsed": false,
    "pycharm": {
     "name": "#%% md\n"
    }
   }
  },
  {
   "cell_type": "code",
   "execution_count": 2,
   "outputs": [
    {
     "name": "stdout",
     "output_type": "stream",
     "text": [
      "[[0.00000000e+00 1.84408725e-06]\n",
      " [2.08333333e-05 1.43549505e-06]\n",
      " [4.16666667e-05 1.57154125e-06]\n",
      " ...\n",
      " [1.36527083e+00 4.22246285e-06]\n",
      " [1.36529167e+00 4.84101201e-06]\n",
      " [1.36531250e+00 5.33551520e-06]]\n"
     ]
    }
   ],
   "source": [
    "pir_path = expand_absolute_path(\"/home/ivan/Documents/estudio/untref/materias/electroacustica ii/tps/tp2/Farfield activo.pir\")  # Set the empty string to the path to the .pir file.\n",
    "pir_file = PirFile.of(pir_path)\n",
    "ir = np.array(pir_file.get_pir_data())\n",
    "# time_vector = np.linspace(0, ir.shape[0] / pir_file.get_sample_rate(), ir.shape[0])\n",
    "time_vector = pir_file.get_time_vector()\n",
    "ir_matrix = pir_file.get_ir().T\n",
    "print(ir_matrix)"
   ],
   "metadata": {
    "collapsed": false,
    "pycharm": {
     "name": "#%%\n"
    }
   }
  },
  {
   "cell_type": "markdown",
   "source": [
    "## Plotting the IR"
   ],
   "metadata": {
    "collapsed": false,
    "pycharm": {
     "name": "#%% md\n"
    }
   }
  },
  {
   "cell_type": "code",
   "execution_count": 3,
   "outputs": [
    {
     "data": {
      "text/plain": "<Figure size 1152x576 with 1 Axes>",
      "image/png": "[encoded data removed]"
     },
     "metadata": {
      "needs_background": "light"
     },
     "output_type": "display_data"
    }
   ],
   "source": [
    "plt.figure(figsize=(16,8))\n",
    "plt.plot(ir_matrix[:, 0], ir_matrix[:, 1])\n",
    "plt.show()"
   ],
   "metadata": {
    "collapsed": false,
    "pycharm": {
     "name": "#%%\n"
    }
   }
  }
 ],
 "metadata": {
  "kernelspec": {
   "display_name": "Python 3",
   "language": "python",
   "name": "python3"
  },
  "language_info": {
   "codemirror_mode": {
    "name": "ipython",
    "version": 2
   },
   "file_extension": ".py",
   "mimetype": "text/x-python",
   "name": "python",
   "nbconvert_exporter": "python",
   "pygments_lexer": "ipython2",
   "version": "2.7.6"
  }
 },
 "nbformat": 4,
 "nbformat_minor": 0
}